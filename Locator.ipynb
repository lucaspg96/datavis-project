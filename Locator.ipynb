{
 "cells": [
  {
   "cell_type": "code",
   "execution_count": 1,
   "metadata": {},
   "outputs": [],
   "source": [
    "from geopy.geocoders import Nominatim\n",
    "import pandas as pd\n",
    "from tqdm import tqdm\n",
    "import requests"
   ]
  },
  {
   "cell_type": "code",
   "execution_count": 2,
   "metadata": {},
   "outputs": [],
   "source": [
    "locator = Nominatim().geocode"
   ]
  },
  {
   "cell_type": "code",
   "execution_count": 3,
   "metadata": {},
   "outputs": [],
   "source": [
    "data = pd.read_csv(\"~/Menu.csv\")\n",
    "places = [place for place in set(data[\"place\"]) if str(place) != 'nan']\n",
    "# places"
   ]
  },
  {
   "cell_type": "code",
   "execution_count": 4,
   "metadata": {},
   "outputs": [],
   "source": [
    "def get_location(address):\n",
    "    try:\n",
    "        return locator(address,timeout=10)\n",
    "    except:\n",
    "        return get_location(address)\n",
    "\n",
    "dirt = ['!','?',':',',','.','[',']','(',')',';']\n",
    "    \n",
    "def clean_address(address):\n",
    "    for d in dirt:\n",
    "        address = address.replace(d,\" \")\n",
    "    return \" \".join(address.split())\n",
    "\n",
    "def get_location_google(address,t=0):\n",
    "    try:\n",
    "        url = \"https://maps.googleapis.com/maps/api/geocode/json?address={}\".format(address.replace(\" \",\"+\"))\n",
    "        response = requests.get(url)\n",
    "        \n",
    "        if response.json()['status']==\"OK\":\n",
    "            return response.json()['results'][0]['geometry']['location']\n",
    "        \n",
    "        elif response.json()['status']==\"ZERO_RESULTS\":\n",
    "            return None\n",
    "        \n",
    "        else:\n",
    "            t+=1\n",
    "            if t<10:\n",
    "                return get_location_google(address,t)\n",
    "            else:\n",
    "                return None\n",
    "    except:\n",
    "        t+=1\n",
    "        if t<10:\n",
    "            return get_location_google(address,t)\n",
    "        else:\n",
    "            return None"
   ]
  },
  {
   "cell_type": "code",
   "execution_count": 5,
   "metadata": {},
   "outputs": [
    {
     "name": "stdout",
     "output_type": "stream",
     "text": [
      "Located: 2018\n",
      "Unlocated: 1696\n"
     ]
    }
   ],
   "source": [
    "located = []\n",
    "unlocated = []\n",
    "\n",
    "l = 0\n",
    "u = 0\n",
    "\n",
    "for place in tqdm(places):\n",
    "    clean_place = clean_address(place)\n",
    "    location = get_location(clean_place)\n",
    "\n",
    "    if location:\n",
    "        l+=1\n",
    "        located.append((place,{'lat':location.latitude,'lng':location.longitude}))\n",
    "        \n",
    "    else:\n",
    "        location = get_location_google(clean_place)\n",
    "        \n",
    "        if location:\n",
    "            l+=1\n",
    "            located.append((place,location))\n",
    "        else:\n",
    "            u+=1\n",
    "            unlocated.append(place)\n",
    "            \n",
    "    print(\"\\rLocated: {} \\t Unlocated: {}\".format(l,u),end=\"\")\n",
    "    \n",
    "# located = []\n",
    "# with open(\"locations-2017-11-16 12:42:08.068035.txt\") as f:\n",
    "#     for line in f:\n",
    "#         if len(line)>1:\n",
    "#             located.append(line.split(\"->\")[0][0:-1])\n",
    "# unlocated = [place for place in places if place not in located]\n",
    "\n",
    "print(\"Located: {}\".format(len(located)))\n",
    "print(\"Unlocated: {}\".format(len(unlocated)))"
   ]
  },
  {
   "cell_type": "code",
   "execution_count": null,
   "metadata": {
    "collapsed": true
   },
   "outputs": [],
   "source": [
    "from datetime import datetime\n",
    "file = \"locations-{}.txt\".format(datetime.now())\n",
    "\n",
    "with open(file,'w') as f:\n",
    "    for place in located:\n",
    "        f.write(\"{} -> {},{}\\n\".format(place[0],place[1].latitude,place[1].longitude))\n",
    "\n",
    "with open(\"unlocateds.txt\",'w') as f:\n",
    "    for place in unlocated:\n",
    "        f.write(\"{}\\n\".format(place))"
   ]
  }
 ],
 "metadata": {
  "kernelspec": {
   "display_name": "Python 3",
   "language": "python",
   "name": "python3"
  },
  "language_info": {
   "codemirror_mode": {
    "name": "ipython",
    "version": 3
   },
   "file_extension": ".py",
   "mimetype": "text/x-python",
   "name": "python",
   "nbconvert_exporter": "python",
   "pygments_lexer": "ipython3",
   "version": "3.6.3"
  }
 },
 "nbformat": 4,
 "nbformat_minor": 2
}
