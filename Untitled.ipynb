{
 "cells": [
  {
   "cell_type": "code",
   "execution_count": 1,
   "metadata": {
    "collapsed": true
   },
   "outputs": [],
   "source": [
    "from geopy.geocoders import Nominatim\n",
    "import pandas as pd\n",
    "from tqdm import tqdm"
   ]
  },
  {
   "cell_type": "code",
   "execution_count": 2,
   "metadata": {
    "collapsed": true
   },
   "outputs": [],
   "source": [
    "locator = Nominatim().geocode"
   ]
  },
  {
   "cell_type": "code",
   "execution_count": 3,
   "metadata": {},
   "outputs": [],
   "source": [
    "data = pd.read_csv(\"Menu.csv\")\n",
    "places = [place for place in set(data[\"place\"]) if str(place) != 'nan']\n",
    "# places"
   ]
  },
  {
   "cell_type": "code",
   "execution_count": 4,
   "metadata": {
    "collapsed": true
   },
   "outputs": [],
   "source": [
    "def get_location(address):\n",
    "    try:\n",
    "        return locator(address,timeout=10)\n",
    "    except:\n",
    "        return get_location(address)\n",
    "\n",
    "dirt = ['!','?',':',',','.','[',']','(',')']\n",
    "    \n",
    "def clean_address(address):\n",
    "    for d in dirt:\n",
    "        address = address.replace(d,\"\")\n",
    "    return address"
   ]
  },
  {
   "cell_type": "code",
   "execution_count": null,
   "metadata": {},
   "outputs": [
    {
     "name": "stderr",
     "output_type": "stream",
     "text": [
      " 62%|██████▏   | 2306/3714 [44:05<39:14,  1.67s/it]  "
     ]
    }
   ],
   "source": [
    "located = []\n",
    "unlocated = []\n",
    "\n",
    "for place in tqdm(places):\n",
    "    place = clean_address(place)\n",
    "    location = get_location(place)\n",
    "\n",
    "    if location:\n",
    "        located.append((place,location))\n",
    "    else:\n",
    "        unlocated.append(place)\n",
    "        \n",
    "print(\"Located: {}\".format(len(located)))\n",
    "print(\"Unlocated: {}\".format(len(unlocated)))"
   ]
  },
  {
   "cell_type": "code",
   "execution_count": null,
   "metadata": {
    "collapsed": true
   },
   "outputs": [],
   "source": []
  }
 ],
 "metadata": {
  "kernelspec": {
   "display_name": "Python 3",
   "language": "python",
   "name": "python3"
  },
  "language_info": {
   "codemirror_mode": {
    "name": "ipython",
    "version": 3
   },
   "file_extension": ".py",
   "mimetype": "text/x-python",
   "name": "python",
   "nbconvert_exporter": "python",
   "pygments_lexer": "ipython3",
   "version": "3.6.2"
  }
 },
 "nbformat": 4,
 "nbformat_minor": 2
}
